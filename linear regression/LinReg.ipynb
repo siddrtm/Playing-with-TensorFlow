{
 "cells": [
  {
   "cell_type": "code",
   "execution_count": 1,
   "metadata": {
    "collapsed": true,
    "deletable": true,
    "editable": true
   },
   "outputs": [],
   "source": [
    "import tensorflow as tf\n",
    "import numpy as np"
   ]
  },
  {
   "cell_type": "code",
   "execution_count": 2,
   "metadata": {
    "collapsed": true,
    "deletable": true,
    "editable": true
   },
   "outputs": [],
   "source": [
    "w = tf.Variable(tf.zeros([2,1]), dtype=tf.float32, name=\"weights\")\n",
    "b = tf.Variable(0., dtype=tf.float32, name=\"bias\")"
   ]
  },
  {
   "cell_type": "code",
   "execution_count": 3,
   "metadata": {
    "collapsed": true,
    "deletable": true,
    "editable": true
   },
   "outputs": [],
   "source": [
    "def inference(X):\n",
    "    return tf.matmul(X,w) + b"
   ]
  },
  {
   "cell_type": "code",
   "execution_count": 4,
   "metadata": {
    "collapsed": true,
    "deletable": true,
    "editable": true
   },
   "outputs": [],
   "source": [
    "def loss(X, Y):\n",
    "    Y_predicted = inference(X)\n",
    "    return tf.reduce_sum(tf.squared_difference(Y, Y_predicted))"
   ]
  },
  {
   "cell_type": "code",
   "execution_count": 15,
   "metadata": {
    "collapsed": true,
    "deletable": true,
    "editable": true
   },
   "outputs": [],
   "source": [
    "def inputs():\n",
    "    f = open('linreg.txt')\n",
    "    weight_age = []\n",
    "    bloof_fat_content = []\n",
    "    for line in f:\n",
    "        temp = line.split()\n",
    "        weight_age += [[float(i) for i in temp[:2]]]\n",
    "        bloof_fat_content += [float(temp[-1])]\n",
    "    return tf.to_float(weight_age), tf.to_float(bloof_fat_content)"
   ]
  },
  {
   "cell_type": "code",
   "execution_count": 21,
   "metadata": {
    "collapsed": true,
    "deletable": true,
    "editable": true
   },
   "outputs": [],
   "source": [
    "def train(total_loss):\n",
    "    learning_rate = .0000001\n",
    "    return tf.train.GradientDescentOptimizer(learning_rate=learning_rate).minimize(total_loss)"
   ]
  },
  {
   "cell_type": "code",
   "execution_count": 7,
   "metadata": {
    "collapsed": true,
    "deletable": true,
    "editable": true
   },
   "outputs": [],
   "source": [
    "def evaluate(sess, X, Y):\n",
    "    print sess.run(inference([[80., 25.]])) # ~ 303\n",
    "    print sess.run(inference([[65., 25.]])) # ~ 256"
   ]
  },
  {
   "cell_type": "code",
   "execution_count": 8,
   "metadata": {
    "collapsed": true,
    "deletable": true,
    "editable": true
   },
   "outputs": [],
   "source": [
    "saver = tf.train.Saver()"
   ]
  },
  {
   "cell_type": "code",
   "execution_count": 25,
   "metadata": {
    "collapsed": false,
    "deletable": true,
    "editable": true
   },
   "outputs": [
    {
     "name": "stdout",
     "output_type": "stream",
     "text": [
      "('loss: ', [7608772.5])\n",
      "('loss: ', [5330321.5])\n",
      "('loss: ', [5318362.0])\n",
      "('loss: ', [5306487.5])\n",
      "('loss: ', [5294693.5])\n",
      "('loss: ', [5282986.0])\n",
      "('loss: ', [5271360.0])\n",
      "('loss: ', [5259814.5])\n",
      "('loss: ', [5248352.0])\n",
      "('loss: ', [5236971.0])\n",
      "('loss: ', [5225670.0])\n",
      "('loss: ', [5214448.0])\n",
      "('loss: ', [5203306.0])\n",
      "('loss: ', [5192242.5])\n",
      "('loss: ', [5181255.0])\n",
      "('loss: ', [5170345.5])\n",
      "('loss: ', [5159514.5])\n",
      "('loss: ', [5148757.5])\n",
      "('loss: ', [5138079.0])\n",
      "('loss: ', [5127474.5])\n",
      "[[ 320.00402832]]\n",
      "[[ 270.57382202]]\n"
     ]
    }
   ],
   "source": [
    "sess = tf.Session()\n",
    "sess.run(tf.global_variables_initializer())\n",
    "X, Y = inputs()\n",
    "\n",
    "total_loss = loss(X, Y)\n",
    "train_op = train(total_loss)\n",
    "\n",
    "#coord = tf.train.Coordinator()\n",
    "#threads = tf.train.start_queue_runners(sess=sess, coord=coord)\n",
    "\n",
    "training_steps = 20000\n",
    "for step in range(training_steps):\n",
    "    sess.run(train_op)\n",
    "    if step % 1000 == 0:\n",
    "        print(\"loss: \",sess.run([total_loss]))\n",
    "    if step % 1000 == 0:\n",
    "        saver.save(sess, 'my-model', global_step=step)\n",
    "\n",
    "saver.save(sess, 'my-model', global_step=training_steps)\n",
    "\n",
    "evaluate(sess, X, Y)\n",
    "\n",
    "#coord.request_stop()\n",
    "#coord.join(threads)\n",
    "sess.close()"
   ]
  },
  {
   "cell_type": "code",
   "execution_count": null,
   "metadata": {
    "collapsed": true,
    "deletable": true,
    "editable": true
   },
   "outputs": [],
   "source": []
  },
  {
   "cell_type": "code",
   "execution_count": null,
   "metadata": {
    "collapsed": true,
    "deletable": true,
    "editable": true
   },
   "outputs": [],
   "source": []
  },
  {
   "cell_type": "code",
   "execution_count": null,
   "metadata": {
    "collapsed": true,
    "deletable": true,
    "editable": true
   },
   "outputs": [],
   "source": []
  },
  {
   "cell_type": "code",
   "execution_count": null,
   "metadata": {
    "collapsed": true,
    "deletable": true,
    "editable": true
   },
   "outputs": [],
   "source": []
  },
  {
   "cell_type": "code",
   "execution_count": null,
   "metadata": {
    "collapsed": true,
    "deletable": true,
    "editable": true
   },
   "outputs": [],
   "source": []
  },
  {
   "cell_type": "code",
   "execution_count": null,
   "metadata": {
    "collapsed": true,
    "deletable": true,
    "editable": true
   },
   "outputs": [],
   "source": []
  },
  {
   "cell_type": "code",
   "execution_count": null,
   "metadata": {
    "collapsed": true,
    "deletable": true,
    "editable": true
   },
   "outputs": [],
   "source": []
  },
  {
   "cell_type": "code",
   "execution_count": null,
   "metadata": {
    "collapsed": true,
    "deletable": true,
    "editable": true
   },
   "outputs": [],
   "source": []
  },
  {
   "cell_type": "code",
   "execution_count": null,
   "metadata": {
    "collapsed": true,
    "deletable": true,
    "editable": true
   },
   "outputs": [],
   "source": []
  },
  {
   "cell_type": "code",
   "execution_count": null,
   "metadata": {
    "collapsed": true,
    "deletable": true,
    "editable": true
   },
   "outputs": [],
   "source": []
  },
  {
   "cell_type": "code",
   "execution_count": null,
   "metadata": {
    "collapsed": true,
    "deletable": true,
    "editable": true
   },
   "outputs": [],
   "source": []
  },
  {
   "cell_type": "code",
   "execution_count": null,
   "metadata": {
    "collapsed": true,
    "deletable": true,
    "editable": true
   },
   "outputs": [],
   "source": [
    "# verify if we don't have a checkpoint saved already\n",
    "ckpt = tf.train.get_checkpoint_state(os.path.dirname(__file__))\n",
    "if ckpt and ckpt.model_checkpoint_path:\n",
    "    # Restores from checkpoint\n",
    "    saver.restore(sess, ckpt.model_checkpoint_path)\n",
    "    initial_step = int(ckpt.model_checkpoint_path.rsplit('-', 1)[1])"
   ]
  }
 ],
 "metadata": {
  "kernelspec": {
   "display_name": "Python 2",
   "language": "python",
   "name": "python2"
  },
  "language_info": {
   "codemirror_mode": {
    "name": "ipython",
    "version": 2
   },
   "file_extension": ".py",
   "mimetype": "text/x-python",
   "name": "python",
   "nbconvert_exporter": "python",
   "pygments_lexer": "ipython2",
   "version": "2.7.12"
  }
 },
 "nbformat": 4,
 "nbformat_minor": 2
}
